{
 "metadata": {
  "anaconda-cloud": {},
  "kernelspec": {
   "display_name": "Python [conda root]",
   "language": "python",
   "name": "conda-root-py"
  },
  "language_info": {
   "codemirror_mode": {
    "name": "ipython",
    "version": 3
   },
   "file_extension": ".py",
   "mimetype": "text/x-python",
   "name": "python",
   "nbconvert_exporter": "python",
   "pygments_lexer": "ipython3",
   "version": "3.5.2"
  },
  "name": ""
 },
 "nbformat": 3,
 "nbformat_minor": 0,
 "worksheets": [
  {
   "cells": [
    {
     "cell_type": "heading",
     "level": 1,
     "metadata": {},
     "source": [
      "The Advanced Lane Finding"
     ]
    },
    {
     "cell_type": "code",
     "collapsed": true,
     "input": [
      "import numpy as np\n",
      "import cv2\n",
      "import matplotlib.pyplot as plt\n",
      "import matplotlib.image as mpimg\n",
      "%matplotlib inline\n",
      "import glob\n",
      "import pickle"
     ],
     "language": "python",
     "metadata": {},
     "outputs": [],
     "prompt_number": 1
    },
    {
     "cell_type": "code",
     "collapsed": true,
     "input": [
      "# a helper function to display the original image and proccessed image side by side\n",
      "def display2images(left_img, right_img, left_title=\"Original\", right_title=\"Processed\", left_gray=False, right_gray=False):\n",
      "    \"\"\"\n",
      "    displays two images side by side in one cell.\n",
      "    \"\"\"\n",
      "    f, (ax1, ax2) = plt.subplots(1, 2, figsize=(24, 9))\n",
      "    f.tight_layout()\n",
      "    if left_gray:\n",
      "        ax1.imshow(left_img, cmap=\"gray\")\n",
      "    else:\n",
      "        ax1.imshow(left_img)\n",
      "    ax1.set_title(left_title, fontsize=50)\n",
      "    if right_gray:\n",
      "        ax2.imshow(right_img, cmap=\"gray\")\n",
      "    else:\n",
      "        ax2.imshow(right_img)\n",
      "    ax2.set_title(right_title, fontsize=50)\n",
      "    plt.subplots_adjust(left=0., right=1, top=0.9, bottom=0.)"
     ],
     "language": "python",
     "metadata": {},
     "outputs": [],
     "prompt_number": 2
    },
    {
     "cell_type": "markdown",
     "metadata": {},
     "source": [
      "---"
     ]
    },
    {
     "cell_type": "heading",
     "level": 3,
     "metadata": {},
     "source": [
      "Rubric 1-1: Camera Callibaration & undistort image"
     ]
    },
    {
     "cell_type": "code",
     "collapsed": false,
     "input": [
      "def calibrate_camera(calibrate_images, nx=9, ny=6):\n",
      "    objpoints = []\n",
      "    imgpoints = []\n",
      "\n",
      "    objp = np.zeros((ny*nx, 3), np.float32)\n",
      "    objp[:,0:2] = np.mgrid[0:nx, 0:ny].T.reshape(-1, 2)\n",
      "\n",
      "    for fname in calibrate_images:\n",
      "        img = cv2.imread(fname)\n",
      "        # Convert to grayscale\n",
      "        gray = cv2.cvtColor(img, cv2.COLOR_BGR2GRAY)\n",
      "        # Find the chessboard corners\n",
      "        ret, corners = cv2.findChessboardCorners(gray, (nx, ny), None)\n",
      "        # If found, draw corners\n",
      "        if ret == True:\n",
      "            imgpoints.append(corners)\n",
      "            objpoints.append(objp)\n",
      "            \n",
      "    ret, mtx, dist, rvecs, tvecs = cv2.calibrateCamera(objpoints, imgpoints, gray.shape[::-1], None, None)            \n",
      "    return ret, mtx, dist, rvecs, tvecs\n",
      "\n",
      "ret, mtx, dist, rvecs, tvecs = calibrate_camera(glob.glob(\"./camera_cal/calibration*.jpg\"))"
     ],
     "language": "python",
     "metadata": {},
     "outputs": [],
     "prompt_number": 3
    },
    {
     "cell_type": "code",
     "collapsed": false,
     "input": [
      "test_image = plt.imread('./camera_cal/calibration1.jpg')\n",
      "undistored_image = cv2.undistort(test_image, mtx, dist)\n",
      "display2images(test_image, undistored_image)"
     ],
     "language": "python",
     "metadata": {},
     "outputs": [],
     "prompt_number": 4
    },
    {
     "cell_type": "heading",
     "level": 3,
     "metadata": {},
     "source": [
      "Rubric 2-1: undistort a test image"
     ]
    },
    {
     "cell_type": "code",
     "collapsed": false,
     "input": [
      "test_image = plt.imread('./test_images/test4.jpg')\n",
      "undistored_image = cv2.undistort(test_image, mtx, dist)\n",
      "display2images(test_image, undistored_image)"
     ],
     "language": "python",
     "metadata": {},
     "outputs": [],
     "prompt_number": 5
    },
    {
     "cell_type": "heading",
     "level": 3,
     "metadata": {},
     "source": [
      "Rubric 2-2: gradient and color threshold"
     ]
    },
    {
     "cell_type": "code",
     "collapsed": true,
     "input": [
      "def abs_sobel_thresh(img, orient='x', sobel_kernel=3, thresh=(20, 100)):\n",
      "    # Grayscale\n",
      "    gray = cv2.cvtColor(img, cv2.COLOR_RGB2GRAY)\n",
      "    # Apply cv2.Sobel()\n",
      "    if orient == \"x\":\n",
      "        sobel = cv2.Sobel(gray, cv2.CV_64F, 1, 0, ksize=sobel_kernel)\n",
      "    else:\n",
      "        sobel = cv2.Sobel(gray, cv2.CV_64F, 0, 1, ksize=sobel_kernel)\n",
      "    # Take the absolute value of the output from cv2.Sobel()\n",
      "    abs_sobel = np.absolute(sobel)\n",
      "    # Scale the result to an 8-bit range (0-255)\n",
      "    scaled_sobel = np.uint8(255*abs_sobel/np.max(abs_sobel))    \n",
      "    # Apply lower and upper thresholds\n",
      "    binary_output = np.zeros_like(scaled_sobel)\n",
      "    binary_output[(scaled_sobel >= thresh[0]) & (scaled_sobel <= thresh[1])] = 1\n",
      "    # Create binary_output\n",
      "    return binary_output\n",
      "\n",
      "# Define a function that applies Sobel x and y, \n",
      "# then computes the magnitude of the gradient\n",
      "# and applies a threshold\n",
      "def mag_thresh(img, sobel_kernel=3, thresh=(0, 255)):    \n",
      "    # Apply the following steps to img\n",
      "    # 1) Convert to grayscale\n",
      "    gray = cv2.cvtColor(img, cv2.COLOR_RGB2GRAY)\n",
      "    # 2) Take the gradient in x and y separately\n",
      "    sobelx = cv2.Sobel(gray, cv2.CV_64F, 1, 0, ksize=sobel_kernel)\n",
      "    sobely = cv2.Sobel(gray, cv2.CV_64F, 0, 1, ksize=sobel_kernel)\n",
      "    # Calculate the gradient magnitude\n",
      "    gradmag = np.sqrt(sobelx**2 + sobely**2)\n",
      "    # Rescale to 8 bit\n",
      "    scale_factor = np.max(gradmag)/255 \n",
      "    gradmag = (gradmag/scale_factor).astype(np.uint8) \n",
      "    # Create a binary image of ones where threshold is met, zeros otherwise\n",
      "    binary_output = np.zeros_like(gradmag)\n",
      "    binary_output[(gradmag >= thresh[0]) & (gradmag <= thresh[1])] = 1\n",
      "    return binary_output\n",
      "\n",
      "# Define a function that applies Sobel x and y, \n",
      "# then computes the direction of the gradient\n",
      "# and applies a threshold.\n",
      "def dir_threshold(img, sobel_kernel=3, thresh=(0, np.pi/2)):\n",
      "    # Grayscale\n",
      "    gray = cv2.cvtColor(img, cv2.COLOR_RGB2GRAY)\n",
      "    # Calculate the x and y gradients\n",
      "    sobelx = cv2.Sobel(gray, cv2.CV_64F, 1, 0, ksize=sobel_kernel)\n",
      "    sobely = cv2.Sobel(gray, cv2.CV_64F, 0, 1, ksize=sobel_kernel)\n",
      "    # Take the absolute value of the gradient direction, \n",
      "    # apply a threshold, and create a binary image result\n",
      "    absgraddir = np.arctan2(np.absolute(sobely), np.absolute(sobelx))\n",
      "    binary_output =  np.zeros_like(absgraddir)\n",
      "    binary_output[(absgraddir >= thresh[0]) & (absgraddir <= thresh[1])] = 1\n",
      "\n",
      "    # Return the binary image\n",
      "    return binary_output\n",
      "\n",
      "# Define a function that thresholds the S-channel of HLS\n",
      "def hls_select(img, thresh=(0, 255)):\n",
      "    hls = cv2.cvtColor(img, cv2.COLOR_RGB2HLS)\n",
      "    s_channel = hls[:,:,2]\n",
      "    \n",
      "    binary_output = np.ones_like(s_channel)\n",
      "    binary_output[(s_channel > thresh[0]) & (s_channel <= thresh[1])] = 0\n",
      "    return binary_output\n",
      "\n",
      "# combien the threshold\n",
      "def combine_thresh(img, ksize=3, sobel_thresh=(30, 255), mg_thresh=(30, 255), dir_thresh=(0, np.pi/2)):\n",
      "    gradx = abs_sobel_thresh(img, orient='x', sobel_kernel=ksize, thresh=sobel_thresh)\n",
      "    hls_binary = hls_select(img, thresh=(0, 160))\n",
      "    \n",
      "    combined = np.zeros_like(hls_binary)\n",
      "    combined[((gradx == 1)) | (hls_binary == 1)] = 1\n",
      "    return combined"
     ],
     "language": "python",
     "metadata": {},
     "outputs": [],
     "prompt_number": 16
    },
    {
     "cell_type": "code",
     "collapsed": false,
     "input": [
      "test_image = plt.imread(\"./test_images/test4.jpg\")\n",
      "combined_binary = combine_thresh(test_image)\n",
      "display2images(test_image, combined_binary, right_gray=True)"
     ],
     "language": "python",
     "metadata": {},
     "outputs": [],
     "prompt_number": 17
    },
    {
     "cell_type": "heading",
     "level": 3,
     "metadata": {},
     "source": [
      "Rubric 2-3 perspective transform"
     ]
    },
    {
     "cell_type": "code",
     "collapsed": true,
     "input": [
      "def fine_tuned_src_dst(img):\n",
      "    img_size = (img.shape[1], img.shape[0])\n",
      "    src = np.float32(\n",
      "            [[(img_size[0] / 2) - 55, img_size[1] / 2 + 100],   # top left\n",
      "            [(img_size[0] / 4), img_size[1] - 50],      # bottom left\n",
      "            [(img_size[0] * 5 / 6), img_size[1] - 50],   # bottom right\n",
      "            [(img_size[0] / 2 + 85), img_size[1] / 2 + 100]])   # top right\n",
      "    \n",
      "    dst = np.float32(\n",
      "        [[(img_size[0] / 4), 0],\n",
      "        [(img_size[0] / 4), img_size[1]],\n",
      "        [(img_size[0] * 3 / 4), img_size[1]],\n",
      "        [(img_size[0] * 3 / 4), 0]])\n",
      "        \n",
      "    return src, dst"
     ],
     "language": "python",
     "metadata": {},
     "outputs": [],
     "prompt_number": 18
    },
    {
     "cell_type": "code",
     "collapsed": false,
     "input": [
      "test_image = plt.imread(\"./test_images/test6.jpg\")\n",
      "# the source rectangle\n",
      "print(test_image.shape)\n",
      "src, dst = fine_tuned_src_dst(test_image)\n",
      "plt.imshow(test_image)\n",
      "for s in src:\n",
      "    print(s)\n",
      "    plt.plot(s[0], s[1], \"x\")\n",
      "\n",
      "for d in dst:\n",
      "    print(d)\n",
      "    plt.plot(d[0], d[1], \"o\")\n",
      "src, dst = fine_tuned_src_dst(test_image)"
     ],
     "language": "python",
     "metadata": {},
     "outputs": [],
     "prompt_number": 19
    },
    {
     "cell_type": "code",
     "collapsed": true,
     "input": [
      "def warp_image(img):\n",
      "    img_size = (img.shape[1], img.shape[0])\n",
      "    src, dst = fine_tuned_src_dst(img)\n",
      "    # get transform matrix\n",
      "    M = cv2.getPerspectiveTransform(src, dst)\n",
      "    # get inverse transform matrix \n",
      "    Minv = cv2.getPerspectiveTransform(dst, src)\n",
      "    # the the transformed image\n",
      "    warped = cv2.warpPerspective(img, M, img_size, flags=cv2.INTER_LINEAR)\n",
      "    return M, Minv, warped"
     ],
     "language": "python",
     "metadata": {},
     "outputs": [],
     "prompt_number": 20
    },
    {
     "cell_type": "code",
     "collapsed": false,
     "input": [
      "test_image = plt.imread(\"./test_images/test4.jpg\")\n",
      "_, Minv, warped_image = warp_image(combine_thresh(test_image))\n",
      "display2images(test_image, warped_image, right_gray=True)"
     ],
     "language": "python",
     "metadata": {
      "scrolled": true
     },
     "outputs": [],
     "prompt_number": 21
    },
    {
     "cell_type": "heading",
     "level": 3,
     "metadata": {},
     "source": [
      "Rubric 2-4, indentifying the lane line pixels"
     ]
    },
    {
     "cell_type": "code",
     "collapsed": false,
     "input": [
      "def fit_line(binary_warped):\n",
      "    # Take a histogram of the bottom half of the image\n",
      "    histogram = np.sum(binary_warped[int(binary_warped.shape[0]/2):,:], axis=0)\n",
      "    # Find the peak of the left and right halves of the histogram\n",
      "    # These will be the starting point for the left and right lines\n",
      "    midpoint = np.int(histogram.shape[0]/2)\n",
      "    leftx_base = np.argmax(histogram[:midpoint])\n",
      "    rightx_base = np.argmax(histogram[midpoint:]) + midpoint\n",
      "\n",
      "    # Choose the number of sliding windows\n",
      "    nwindows = 18\n",
      "    # Set height of windows\n",
      "    window_height = np.int(binary_warped.shape[0]/nwindows)\n",
      "    # Identify the x and y positions of all nonzero pixels in the image\n",
      "    nonzero = binary_warped.nonzero()\n",
      "    nonzeroy = np.array(nonzero[0])\n",
      "    nonzerox = np.array(nonzero[1])\n",
      "    # Current positions to be updated for each window\n",
      "    leftx_current = leftx_base\n",
      "    rightx_current = rightx_base\n",
      "    # Set the width of the windows +/- margin\n",
      "    margin = 100\n",
      "    # Set minimum number of pixels found to recenter window\n",
      "    minpix = 100\n",
      "    # Create empty lists to receive left and right lane pixel indices\n",
      "    left_lane_inds = []\n",
      "    right_lane_inds = []\n",
      "\n",
      "    # Step through the windows one by one\n",
      "    for window in range(nwindows - 6):\n",
      "        # Identify window boundaries in x and y (and right and left)\n",
      "        win_y_low = binary_warped.shape[0] - (window+1)*window_height\n",
      "        win_y_high = binary_warped.shape[0] - window*window_height\n",
      "        win_xleft_low = leftx_current - margin\n",
      "        win_xleft_high = leftx_current + margin\n",
      "        win_xright_low = rightx_current - margin\n",
      "        win_xright_high = rightx_current + margin\n",
      "        \n",
      "        # Identify the nonzero pixels in x and y within the window\n",
      "        good_left_inds = ((nonzeroy >= win_y_low) & (nonzeroy < win_y_high) & (nonzerox >= win_xleft_low) & (nonzerox < win_xleft_high)).nonzero()[0]\n",
      "        good_right_inds = ((nonzeroy >= win_y_low) & (nonzeroy < win_y_high) & (nonzerox >= win_xright_low) & (nonzerox < win_xright_high)).nonzero()[0]\n",
      "        # Append these indices to the lists\n",
      "        left_lane_inds.append(good_left_inds)\n",
      "        right_lane_inds.append(good_right_inds)\n",
      "        # If you found > minpix pixels, recenter next window on their mean position\n",
      "        if len(good_left_inds) > minpix:\n",
      "            leftx_current = np.int(np.mean(nonzerox[good_left_inds]))\n",
      "        if len(good_right_inds) > minpix:        \n",
      "            rightx_current = np.int(np.mean(nonzerox[good_right_inds]))\n",
      "\n",
      "    # Concatenate the arrays of indices\n",
      "    left_lane_inds = np.concatenate(left_lane_inds)\n",
      "    right_lane_inds = np.concatenate(right_lane_inds)\n",
      "\n",
      "    # Extract left and right line pixel positions\n",
      "    leftx = nonzerox[left_lane_inds]\n",
      "    lefty = nonzeroy[left_lane_inds] \n",
      "    rightx = nonzerox[right_lane_inds]\n",
      "    righty = nonzeroy[right_lane_inds]\n",
      "    \n",
      "    # Fit a second order polynomial to each\n",
      "    left_fit = np.polyfit(lefty, leftx, 2)\n",
      "    right_fit = np.polyfit(righty, rightx, 2)\n",
      "    \n",
      "    return left_fit, right_fit, left_lane_inds, right_lane_inds\n",
      "\n",
      "def display_the_fitted_line(binary_warped):\n",
      "    \n",
      "    left_fit, right_fit, left_lane_inds, right_lane_inds = fit_line(binary_warped)\n",
      "    \n",
      "    # Create an output image to draw on and  visualize the result\n",
      "    out_img = np.dstack((binary_warped, binary_warped, binary_warped))*255\n",
      "    nonzero = binary_warped.nonzero()\n",
      "    nonzeroy = np.array(nonzero[0])\n",
      "    nonzerox = np.array(nonzero[1])\n",
      "    \n",
      "    # Generate x and y values for plotting\n",
      "    ploty = np.linspace(0, binary_warped.shape[0]-1, binary_warped.shape[0] )\n",
      "    left_fitx = left_fit[0]*ploty**2 + left_fit[1]*ploty + left_fit[2]\n",
      "    right_fitx = right_fit[0]*ploty**2 + right_fit[1]*ploty + right_fit[2]\n",
      "\n",
      "    out_img[nonzeroy[left_lane_inds], nonzerox[left_lane_inds]] = [255, 0, 0]\n",
      "    out_img[nonzeroy[right_lane_inds], nonzerox[right_lane_inds]] = [0, 0, 255]\n",
      "    plt.imshow(out_img)\n",
      "    plt.plot(left_fitx, ploty, color='yellow')\n",
      "    plt.plot(right_fitx, ploty, color='yellow')\n",
      "    plt.xlim(0, 1280)\n",
      "    plt.ylim(720, 0)"
     ],
     "language": "python",
     "metadata": {},
     "outputs": [],
     "prompt_number": 22
    },
    {
     "cell_type": "code",
     "collapsed": false,
     "input": [
      "test_image = plt.imread(\"./test_images/test1.jpg\")\n",
      "_, Minv, warped_image = warp_image(combine_thresh(test_image))\n",
      "display_the_fitted_line(warped_image)"
     ],
     "language": "python",
     "metadata": {},
     "outputs": [],
     "prompt_number": 23
    },
    {
     "cell_type": "heading",
     "level": 3,
     "metadata": {},
     "source": [
      "Rubric 2-5, finding lane curvature"
     ]
    },
    {
     "cell_type": "code",
     "collapsed": true,
     "input": [
      "# def calculate_curvature(point_coord, left_fit, right_fit):\n",
      "def calculate_curvature(img):\n",
      "    \n",
      "    left_fit\n",
      "    \n",
      "    \n",
      "    pixel_in_y = img.shape[0]\n",
      "    pixel_in_x = img.shape[1]\n",
      "    meters_in_x = 3.7\n",
      "    meters_in_y = 30\n",
      "    \n",
      "    # Generate some fake data to represent lane-line pixels\n",
      "    ploty = np.linspace(0, pixel_in_y-1, num=pixel_in_y)# to cover same y-range as image\n",
      "    quadratic_coeff = 3e-4 # arbitrary quadratic coefficient\n",
      "    # For each y position generate random x position within +/-50 pix\n",
      "    # of the line base position in each case (x=200 for left, and x=900 for right)\n",
      "    leftx = np.array([200 + (y**2)*quadratic_coeff + np.random.randint(-50, high=51) \n",
      "                                  for y in ploty])\n",
      "    rightx = np.array([900 + (y**2)*quadratic_coeff + np.random.randint(-50, high=51) \n",
      "                                    for y in ploty])\n",
      "\n",
      "    leftx = leftx[::-1]  # Reverse to match top-to-bottom in y\n",
      "    rightx = rightx[::-1]  # Reverse to match top-to-bottom in y\n",
      "\n",
      "\n",
      "    # Fit a second order polynomial to pixel positions in each fake lane line\n",
      "    left_fit = np.polyfit(ploty, leftx, 2)\n",
      "    left_fitx = left_fit[0]*ploty**2 + left_fit[1]*ploty + left_fit[2]\n",
      "    right_fit = np.polyfit(ploty, rightx, 2)\n",
      "    right_fitx = right_fit[0]*ploty**2 + right_fit[1]*ploty + right_fit[2]\n",
      "\n",
      "    # Plot up the fake data\n",
      "    mark_size = 3\n",
      "    plt.plot(leftx, ploty, 'o', color='red', markersize=mark_size)\n",
      "    plt.plot(rightx, ploty, 'o', color='blue', markersize=mark_size)\n",
      "    plt.xlim(0, pixel_in_x)\n",
      "    plt.ylim(0, pixel_in_y)\n",
      "    plt.plot(left_fitx, ploty, color='green', linewidth=3)\n",
      "    plt.plot(right_fitx, ploty, color='green', linewidth=3)\n",
      "    plt.gca().invert_yaxis() # to visualize as we do the images\n",
      "    \n",
      "    # Define y-value where we want radius of curvature\n",
      "    # I'll choose the maximum y-value, corresponding to the bottom of the image\n",
      "    y_eval = point_coord\n",
      "    left_curverad = ((1 + (2*left_fit[0]*y_eval + left_fit[1])**2)**1.5) / np.absolute(2*left_fit[0])\n",
      "    right_curverad = ((1 + (2*right_fit[0]*y_eval + right_fit[1])**2)**1.5) / np.absolute(2*right_fit[0])\n",
      "    \n",
      "    ym_per_pix = float(meters_in_y/pixel_in_y) # meters per pixel in y dimension\n",
      "    xm_per_pix = meters_in_x/pixel_in_x # meters per pixel in x dimension\n",
      "\n",
      "    # Fit new polynomials to x,y in world space\n",
      "    left_fit_cr = np.polyfit(ploty*ym_per_pix, leftx*xm_per_pix, 2)\n",
      "    right_fit_cr = np.polyfit(ploty*ym_per_pix, rightx*xm_per_pix, 2)\n",
      "    # Calculate the new radii of curvature\n",
      "    left_curverad = ((1 + (2*left_fit_cr[0]*y_eval*ym_per_pix + left_fit_cr[1])**2)**1.5) / np.absolute(2*left_fit_cr[0])\n",
      "    right_curverad = ((1 + (2*right_fit_cr[0]*y_eval*ym_per_pix + right_fit_cr[1])**2)**1.5) / np.absolute(2*right_fit_cr[0])\n",
      "    # Now our radius of curvature is in meters\n",
      "    print(left_curverad, 'm', right_curverad, 'm')\n",
      "    \n",
      "    return (left_curverad, right_curverad)\n"
     ],
     "language": "python",
     "metadata": {},
     "outputs": [],
     "prompt_number": 24
    },
    {
     "cell_type": "code",
     "collapsed": false,
     "input": [
      "test_image = plt.imread(\"./test_images/test4.jpg\")\n",
      "_, Minv, warped_image = warp_image(combine_thresh(test_image))\n",
      "left_fit, right_fit, _, _ = fit_line(warped_image)\n",
      "calculate_curvature(test_image.shape[0], left_fit, right_fit)"
     ],
     "language": "python",
     "metadata": {},
     "outputs": [],
     "prompt_number": 25
    },
    {
     "cell_type": "heading",
     "level": 3,
     "metadata": {},
     "source": [
      "Rubric 2-6 pipline"
     ]
    },
    {
     "cell_type": "code",
     "collapsed": false,
     "input": [
      "def draw_filling(img, binary_warped, undistorted, Minv, left_fit, right_fit):\n",
      "    # Generate x and y values for plotting\n",
      "    ploty = np.linspace(0, binary_warped.shape[0]-1, binary_warped.shape[0] )\n",
      "    left_fitx = left_fit[0]*ploty**2 + left_fit[1]*ploty + left_fit[2]\n",
      "    right_fitx = right_fit[0]*ploty**2 + right_fit[1]*ploty + right_fit[2]\n",
      "\n",
      "    # Create an image to draw the lines on\n",
      "    warp_zero = np.zeros_like(binary_warped).astype(np.uint8)\n",
      "    color_warp = np.dstack((warp_zero, warp_zero, warp_zero))\n",
      "\n",
      "    # Recast the x and y points into usable format for cv2.fillPoly()\n",
      "    pts_left = np.array([np.transpose(np.vstack([left_fitx, ploty]))])\n",
      "    pts_right = np.array([np.flipud(np.transpose(np.vstack([right_fitx, ploty])))])\n",
      "    pts = np.hstack((pts_left, pts_right))\n",
      "\n",
      "    # Draw the lane onto the warped blank image\n",
      "    cv2.fillPoly(color_warp, np.int_([pts]), (0,255, 0))\n",
      "\n",
      "    # Warp the blank back to original image space using inverse perspective matrix (Minv)\n",
      "    newwarp = cv2.warpPerspective(color_warp, Minv, (img.shape[1], img.shape[0])) \n",
      "    # Combine the result with the original image\n",
      "    result = cv2.addWeighted(undistorted, 1, newwarp, 0.3, 0)\n",
      "    return result\n",
      "\n",
      "def pipe_line(img, mtx, dist):\n",
      "    # undistort the image using calibration matrix\n",
      "    undistorted = cv2.undistort(img, mtx, dist, None, mtx)\n",
      "\n",
      "    # color transformation\n",
      "    tranformed = combine_thresh(undistorted)\n",
      "\n",
      "    # do warp\n",
      "    _, Minv, warped_binary = warp_image(tranformed)\n",
      "    \n",
      "    # fit line\n",
      "    left_fit, right_fit, _, _ = fit_line(warped_binary)\n",
      "    \n",
      "    return draw_filling(img, warped_binary, undistorted, Minv, left_fit, right_fit) "
     ],
     "language": "python",
     "metadata": {},
     "outputs": [],
     "prompt_number": 88
    },
    {
     "cell_type": "code",
     "collapsed": false,
     "input": [
      "filled_image = pipe_line(test_image, mtx, dist)\n",
      "display2images(test_image, filled_image)"
     ],
     "language": "python",
     "metadata": {},
     "outputs": [],
     "prompt_number": 89
    },
    {
     "cell_type": "heading",
     "level": 3,
     "metadata": {},
     "source": [
      "Rubric 3 Applying pipline to video"
     ]
    },
    {
     "cell_type": "code",
     "collapsed": true,
     "input": [
      "from moviepy.editor import VideoFileClip\n",
      "from IPython.display import HTML"
     ],
     "language": "python",
     "metadata": {},
     "outputs": [],
     "prompt_number": 90
    },
    {
     "cell_type": "code",
     "collapsed": true,
     "input": [
      "def process_image(image):\n",
      "    result = pipe_line(image, mtx, dist)\n",
      "    return result"
     ],
     "language": "python",
     "metadata": {},
     "outputs": [],
     "prompt_number": 91
    },
    {
     "cell_type": "code",
     "collapsed": false,
     "input": [
      "output_video = 'output_20170412.mp4'\n",
      "clip1 = VideoFileClip(\"./project_video.mp4\")\n",
      "white_clip = clip1.fl_image(process_image) #NOTE: this function expects color images!!\n",
      "%time white_clip.write_videofile(output_video, audio=False)"
     ],
     "language": "python",
     "metadata": {
      "scrolled": true
     },
     "outputs": [],
     "prompt_number": 93
    },
    {
     "cell_type": "code",
     "collapsed": false,
     "input": [
      "# output_video = \"../project_output_video.mp4\"\n",
      "HTML(\"\"\"\n",
      "<video width=\"960\" height=\"540\" controls>\n",
      "  <source src=\"{0}\">\n",
      "</video>\n",
      "\"\"\".format(output_video))"
     ],
     "language": "python",
     "metadata": {},
     "outputs": [],
     "prompt_number": 94
    },
    {
     "cell_type": "code",
     "collapsed": true,
     "input": [],
     "language": "python",
     "metadata": {},
     "outputs": [],
     "prompt_number": null
    }
   ],
   "metadata": {}
  }
 ]
}